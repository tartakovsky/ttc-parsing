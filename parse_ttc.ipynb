{
 "cells": [
  {
   "cell_type": "code",
   "execution_count": 2,
   "metadata": {
    "collapsed": true
   },
   "outputs": [
    {
     "name": "stdout",
     "output_type": "stream",
     "text": [
      "Done\n"
     ]
    }
   ],
   "source": [
    "from selenium import webdriver\n",
    "from selenium.webdriver.common.by import By\n",
    "from selenium_stealth import stealth\n",
    "from webdriver_manager.chrome import ChromeDriverManager\n",
    "from selenium.webdriver.common.proxy import Proxy, ProxyType\n",
    "\n",
    "print('Done')"
   ]
  },
  {
   "cell_type": "markdown",
   "source": [
    "# Download and parse price data from TTC"
   ],
   "metadata": {
    "collapsed": false,
    "pycharm": {
     "name": "#%% md\n"
    }
   }
  },
  {
   "cell_type": "code",
   "execution_count": 3,
   "outputs": [
    {
     "name": "stdout",
     "output_type": "stream",
     "text": [
      "  % Total    % Received % Xferd  Average Speed   Time    Time     Time  Current\r\n",
      "                                 Dload  Upload   Total   Spent    Left  Speed\r\n",
      "100 2693k  100 2693k    0     0   530k      0  0:00:05  0:00:05 --:--:--  599k\r\n",
      "Archive:  PriceTable.zip\r\n",
      "  inflating: PriceTable/ItemLookUpTable_DE.lua  \r\n",
      "  inflating: PriceTable/ItemLookUpTable_EN.lua  \r\n",
      "  inflating: PriceTable/ItemLookUpTable_ES.lua  \r\n",
      "  inflating: PriceTable/ItemLookUpTable_FR.lua  \r\n",
      "  inflating: PriceTable/ItemLookUpTable_RU.lua  \r\n",
      "  inflating: PriceTable/ItemLookUpTable_ZH.lua  \r\n",
      "  inflating: PriceTable/PriceTableEU.lua  \r\n"
     ]
    }
   ],
   "source": [
    "!curl https://eu.tamrieltradecentre.com/download/PriceTable --output \"PriceTable.zip\"\n",
    "!unzip -o PriceTable.zip -d PriceTable/"
   ],
   "metadata": {
    "collapsed": false,
    "pycharm": {
     "name": "#%%\n"
    }
   }
  },
  {
   "cell_type": "code",
   "execution_count": 4,
   "outputs": [
    {
     "name": "stdout",
     "output_type": "stream",
     "text": [
      "Done\n"
     ]
    }
   ],
   "source": [
    "import json\n",
    "from slpp import slpp as lua\n",
    "\n",
    "with open('PriceTable/PriceTableEU.lua', 'r') as file:\n",
    "    data = file.read()\n",
    "    data = data.split(\"self.PriceTable=\")[1][:-5]\n",
    "    data = lua.decode(data)['Data']\n",
    "    json.dump(data, open(f\"PriceTable.json\", \"w\"), indent=4)\n",
    "\n",
    "with open('PriceTable/ItemLookUpTable_EN.lua', 'r') as file:\n",
    "    data = file.read()\n",
    "    data = data.split(\"self.ItemLookUpTable=\")[1][:-5]\n",
    "    data = lua.decode(data)\n",
    "    json.dump(data, open(f\"ItemLookUpTable.json\", \"w\"), indent=4)\n",
    "\n",
    "print('Done')"
   ],
   "metadata": {
    "collapsed": false,
    "pycharm": {
     "name": "#%%\n"
    }
   }
  },
  {
   "cell_type": "markdown",
   "source": [
    "# Parse listed items from TTC by query"
   ],
   "metadata": {
    "collapsed": false,
    "pycharm": {
     "name": "#%% md\n"
    }
   }
  },
  {
   "cell_type": "code",
   "execution_count": 5,
   "outputs": [],
   "source": [
    "def get_driver(proxy=None):\n",
    "    options = webdriver.ChromeOptions()\n",
    "    options.add_argument(\"start-maximized\")\n",
    "    options.add_argument(\"--headless\")\n",
    "    options.add_experimental_option(\"excludeSwitches\", [\"enable-automation\"])\n",
    "    options.add_experimental_option('useAutomationExtension', False)\n",
    "\n",
    "    capabilities = webdriver.DesiredCapabilities.CHROME\n",
    "\n",
    "    if proxy is not None:\n",
    "        prox = Proxy()\n",
    "        prox.proxy_type = ProxyType.MANUAL\n",
    "        prox.http_proxy = proxy\n",
    "        prox.add_to_capabilities(capabilities)\n",
    "\n",
    "    driver = webdriver.Chrome(ChromeDriverManager().install(),\n",
    "                              options=options,\n",
    "                              desired_capabilities=capabilities)\n",
    "\n",
    "    stealth(driver,\n",
    "            languages=[\"en-US\", \"en\"],\n",
    "            vendor=\"Google Inc.\",\n",
    "            platform=\"Win32\",\n",
    "            webgl_vendor=\"Intel Inc.\",\n",
    "            renderer=\"Intel Iris OpenGL Engine\",\n",
    "            fix_hairline=True,\n",
    "            )\n",
    "\n",
    "    return driver\n",
    "\n",
    "def get_page_rows(driver, url, page):\n",
    "    driver.get(f\"{url}&page={page}\")\n",
    "    driver.implicitly_wait(4)\n",
    "    return driver.find_elements(By.XPATH, '//tr[@class=\"cursor-pointer\"]')\n",
    "\n",
    "def parse_row_data(row_html):\n",
    "    d = {\n",
    "        'name': row_html.find_element(By.XPATH, './/td[1]/div[1]').text,\n",
    "        'location': row_html.find_element(By.XPATH, './/td[3]/div[1]').text,\n",
    "        'guild': row_html.find_element(By.XPATH, './/td[3]/div[2]').text,\n",
    "        'price': row_html.find_element(By.XPATH, './/td[4]/span[1]').text,\n",
    "        'quality': row_html.find_element(By.XPATH, './/td[1]/div[1]').get_attribute(\"class\"),\n",
    "        'cp': row_html.find_element(By.XPATH, './/td[1]/div[2]/img').get_attribute(\"src\"),\n",
    "        'level': row_html.find_element(By.XPATH, './/td[1]/div[2]/span').text,\n",
    "        'last_seen': row_html.find_element(By.XPATH, './/td[5]').text,\n",
    "    }\n",
    "    d['quality'] = class_to_quality[d['quality']]\n",
    "    d['price'] = float(d['price'].replace(',', ''))\n",
    "    d['cp'] = 'championPoint' in d['cp']\n",
    "    if d['cp']:\n",
    "        d['level'] = int(d['level']) + 50\n",
    "    return d\n",
    "\n",
    "def get_row_data(url, page, driver=None):\n",
    "    if driver is None:\n",
    "        driver = get_driver()\n",
    "\n",
    "    page_rows = get_page_rows(driver, url, page)\n",
    "    dict_rows = [parse_row_data(r) for r in page_rows]\n",
    "    return dict_rows\n"
   ],
   "metadata": {
    "collapsed": false,
    "pycharm": {
     "name": "#%%\n"
    }
   }
  },
  {
   "cell_type": "code",
   "execution_count": 6,
   "outputs": [],
   "source": [
    "class_to_quality = {\n",
    "    'item-quality-normal': 0,\n",
    "    'item-quality-fine': 1,\n",
    "    'item-quality-superior': 2,\n",
    "    'item-quality-epic': 3,\n",
    "    'item-quality-legendary': 4\n",
    "}\n"
   ],
   "metadata": {
    "collapsed": false,
    "pycharm": {
     "name": "#%%\n"
    }
   }
  },
  {
   "cell_type": "markdown",
   "source": [
    "# Input your params here\n",
    "- What are you searching for (use + instead of space, no url encoding yet)\n",
    "- how many pages you want to search\n",
    "- other TTC URL params"
   ],
   "metadata": {
    "collapsed": false,
    "pycharm": {
     "name": "#%% md\n"
    }
   }
  },
  {
   "cell_type": "code",
   "execution_count": 7,
   "outputs": [],
   "source": [
    "# params\n",
    "n_pages = 3\n",
    "params = {\n",
    "    'ItemNamePattern': 'motif',\n",
    "    'ItemQualityID': 3,\n",
    "    'PriceMin': 3000,\n",
    "    'PriceMax': 50000,\n",
    "    'SortBy': 'Price',\n",
    "    'Order': 'asc'\n",
    "}"
   ],
   "metadata": {
    "collapsed": false,
    "pycharm": {
     "name": "#%%\n"
    }
   }
  },
  {
   "cell_type": "code",
   "execution_count": 8,
   "outputs": [
    {
     "data": {
      "text/plain": "'https://eu.tamrieltradecentre.com/pc/Trade/SearchResult?ItemNamePattern=motif&ItemQualityID=3&PriceMin=3000&PriceMax=50000&SortBy=Price&Order=asc'"
     },
     "execution_count": 8,
     "metadata": {},
     "output_type": "execute_result"
    }
   ],
   "source": [
    "base_url = \"https://eu.tamrieltradecentre.com\"\n",
    "search_url = f\"{base_url}/{'pc/Trade/SearchResult?'}\"\n",
    "param_str = '&'.join([f\"{k}={v}\" for k, v in params.items()])\n",
    "url = f\"{search_url}{param_str}\"\n",
    "url"
   ],
   "metadata": {
    "collapsed": false,
    "pycharm": {
     "name": "#%%\n"
    }
   }
  },
  {
   "cell_type": "code",
   "execution_count": 9,
   "outputs": [
    {
     "name": "stderr",
     "output_type": "stream",
     "text": [
      "\n",
      "\n",
      "====== WebDriver manager ======\n",
      "Current google-chrome version is 110.0.5481\n",
      "Get LATEST chromedriver version for 110.0.5481 google-chrome\n",
      "Driver [/Users/tartakovsky/.wdm/drivers/chromedriver/mac64/110.0.5481.77/chromedriver] found in cache\n",
      "/var/folders/04/60qvc12j259_3sx6n2hxnldc0000gn/T/ipykernel_39756/698962434.py:16: DeprecationWarning: executable_path has been deprecated, please pass in a Service object\n",
      "  driver = webdriver.Chrome(ChromeDriverManager().install(),\n"
     ]
    }
   ],
   "source": [
    "driver = get_driver()"
   ],
   "metadata": {
    "collapsed": false,
    "pycharm": {
     "name": "#%%\n"
    }
   }
  },
  {
   "cell_type": "code",
   "execution_count": 10,
   "outputs": [
    {
     "name": "stdout",
     "output_type": "stream",
     "text": [
      "10\n",
      "20\n",
      "30\n"
     ]
    },
    {
     "data": {
      "text/plain": "30"
     },
     "execution_count": 10,
     "metadata": {},
     "output_type": "execute_result"
    }
   ],
   "source": [
    "rows = []\n",
    "\n",
    "for page in range(1, 5001):\n",
    "    dict_rows = get_row_data(url, page, driver)\n",
    "    rows = rows + dict_rows\n",
    "    print(len(rows))\n",
    "    if len(dict_rows) == 0 or page == n_pages:\n",
    "        break\n",
    "    #\n",
    "    # driver.implicitly_wait(1)\n",
    "\n",
    "len(rows)"
   ],
   "metadata": {
    "collapsed": false,
    "pycharm": {
     "name": "#%%\n"
    }
   }
  },
  {
   "cell_type": "code",
   "execution_count": 11,
   "outputs": [
    {
     "data": {
      "text/plain": "[{'name': 'Crafting Motif 113: Steadfast Society Maces',\n  'location': 'Summerset: Shimmerene',\n  'guild': 'Arkays Handelshof',\n  'price': 3000.0,\n  'quality': 3,\n  'cp': False,\n  'level': '1',\n  'last_seen': '2 Hour ago'},\n {'name': 'Crafting Motif 113: Steadfast Society Bows',\n  'location': 'Summerset: Shimmerene',\n  'guild': 'Arkays Handelshof',\n  'price': 3000.0,\n  'quality': 3,\n  'cp': False,\n  'level': '1',\n  'last_seen': '2 Hour ago'},\n {'name': 'Crafting Motif 81: New Moon Priest Maces',\n  'location': 'High Isle and Amenos: Gonfalon Bay',\n  'guild': 'Dragonborn Inc',\n  'price': 3000.0,\n  'quality': 3,\n  'cp': False,\n  'level': '1',\n  'last_seen': '3 Hour ago'},\n {'name': 'Crafting Motif 113: Steadfast Society Legs',\n  'location': 'Summerset: Shimmerene',\n  'guild': 'Arkays Handelshof',\n  'price': 3000.0,\n  'quality': 3,\n  'cp': False,\n  'level': '1',\n  'last_seen': '4 Hour ago'},\n {'name': 'Crafting Motif 81: New Moon Priest Helmets',\n  'location': 'The Reach: Markarth',\n  'guild': 'Der Greifenhain',\n  'price': 3000.0,\n  'quality': 3,\n  'cp': False,\n  'level': '1',\n  'last_seen': '3 Hour ago'},\n {'name': 'Crafting Motif 63: Dremora Helmets',\n  'location': 'Summerset: Alinor',\n  'guild': 'Der Tante Emma Laden',\n  'price': 3000.0,\n  'quality': 3,\n  'cp': False,\n  'level': '1',\n  'last_seen': '3 Hour ago'},\n {'name': 'Crafting Motif 34: Assassins League Axes',\n  'location': 'Summerset: Shimmerene',\n  'guild': 'Arkays Handelshof',\n  'price': 3000.0,\n  'quality': 3,\n  'cp': False,\n  'level': '1',\n  'last_seen': '26 Minute ago'},\n {'name': 'Crafting Motif 113: Steadfast Society Axes',\n  'location': 'The Reach: Markarth',\n  'guild': 'Der Greifenhain',\n  'price': 3000.0,\n  'quality': 3,\n  'cp': False,\n  'level': '1',\n  'last_seen': '3 Hour ago'},\n {'name': 'Crafting Motif 113: Steadfast Society Daggers',\n  'location': 'The Reach: Markarth',\n  'guild': 'Der Greifenhain',\n  'price': 3000.0,\n  'quality': 3,\n  'cp': False,\n  'level': '1',\n  'last_seen': '3 Hour ago'},\n {'name': 'Crafting Motif 85: Greymoor Gloves',\n  'location': \"Glenumbra: Daggerfall's Outlaw Refuge\",\n  'guild': 'Sithis Wars',\n  'price': 3000.0,\n  'quality': 3,\n  'cp': False,\n  'level': '1',\n  'last_seen': '3 Hour ago'},\n {'name': 'Crafting Motif 85: Greymoor Chests',\n  'location': 'Stormhaven: Wayrest',\n  'guild': 'Dagons Wrath',\n  'price': 3000.0,\n  'quality': 3,\n  'cp': False,\n  'level': '1',\n  'last_seen': '4 Hour ago'},\n {'name': 'Crafting Motif 63: Dremora Boots',\n  'location': 'Summerset: Alinor',\n  'guild': 'Der Tante Emma Laden',\n  'price': 3000.0,\n  'quality': 3,\n  'cp': False,\n  'level': '1',\n  'last_seen': '22 Minute ago'},\n {'name': 'Crafting Motif 63: Dremora Boots',\n  'location': 'Summerset: Alinor',\n  'guild': 'Der Tante Emma Laden',\n  'price': 3000.0,\n  'quality': 3,\n  'cp': False,\n  'level': '1',\n  'last_seen': '22 Minute ago'},\n {'name': 'Crafting Motif 63: Dremora Boots',\n  'location': 'Summerset: Alinor',\n  'guild': 'Der Tante Emma Laden',\n  'price': 3000.0,\n  'quality': 3,\n  'cp': False,\n  'level': '1',\n  'last_seen': '22 Minute ago'},\n {'name': 'Crafting Motif 63: Dremora Boots',\n  'location': 'Summerset: Alinor',\n  'guild': 'Der Tante Emma Laden',\n  'price': 3000.0,\n  'quality': 3,\n  'cp': False,\n  'level': '1',\n  'last_seen': '22 Minute ago'},\n {'name': 'Crafting Motif 85: Greymoor Bows',\n  'location': 'Summerset: Alinor',\n  'guild': \"Stendarr's Merchantry\",\n  'price': 3000.0,\n  'quality': 3,\n  'cp': False,\n  'level': '1',\n  'last_seen': '3 Hour ago'},\n {'name': 'Crafting Motif 84: Blackreach Vanguard Belts',\n  'location': \"Alik'r Desert: Sentinel\",\n  'guild': 'ClaudisClubhaus',\n  'price': 3000.0,\n  'quality': 3,\n  'cp': False,\n  'level': '1',\n  'last_seen': '60 Minute ago'},\n {'name': 'Crafting Motif 63: Dremora Belts',\n  'location': 'Summerset: Shimmerene',\n  'guild': 'Arkays Handelshof',\n  'price': 3000.0,\n  'quality': 3,\n  'cp': False,\n  'level': '1',\n  'last_seen': '26 Minute ago'},\n {'name': 'Crafting Motif 63: Dremora Staves',\n  'location': 'Stonefalls: Ebonheart',\n  'guild': 'Tamriels Vagabunden',\n  'price': 3000.0,\n  'quality': 3,\n  'cp': False,\n  'level': '1',\n  'last_seen': '4 Hour ago'},\n {'name': 'Crafting Motif 63: Dremora Belts',\n  'location': 'Stonefalls: Ebonheart',\n  'guild': 'Tamriels Vagabunden',\n  'price': 3000.0,\n  'quality': 3,\n  'cp': False,\n  'level': '1',\n  'last_seen': '4 Hour ago'},\n {'name': 'Crafting Motif 113: Steadfast Society Shields',\n  'location': 'Stonefalls: Ebonheart',\n  'guild': 'Twist It Sis',\n  'price': 3000.0,\n  'quality': 3,\n  'cp': False,\n  'level': '1',\n  'last_seen': '3 Hour ago'},\n {'name': 'Crafting Motif 85: Greymoor Shoulders',\n  'location': \"Glenumbra: Daggerfall's Outlaw Refuge\",\n  'guild': 'Sithis Wars',\n  'price': 3000.0,\n  'quality': 3,\n  'cp': False,\n  'level': '1',\n  'last_seen': '3 Hour ago'},\n {'name': 'Crafting Motif 63: Dremora Daggers',\n  'location': 'Craglorn: Belkarth',\n  'guild': '-cashflow',\n  'price': 3000.0,\n  'quality': 3,\n  'cp': False,\n  'level': '1',\n  'last_seen': '2 Hour ago'},\n {'name': 'Crafting Motif 63: Dremora Helmets',\n  'location': 'Vvardenfell: Sadrith Mora',\n  'guild': 'SR Trading',\n  'price': 3000.0,\n  'quality': 3,\n  'cp': False,\n  'level': '1',\n  'last_seen': '1 Hour ago'},\n {'name': 'Crafting Motif 63: Dremora Chests',\n  'location': 'The Reach: Markarth',\n  'guild': 'Der Greifenhain',\n  'price': 3000.0,\n  'quality': 3,\n  'cp': False,\n  'level': '1',\n  'last_seen': '3 Hour ago'},\n {'name': 'Crafting Motif 85: Greymoor Helmets',\n  'location': 'Vvardenfell: Sadrith Mora',\n  'guild': 'DarkElements',\n  'price': 3000.0,\n  'quality': 3,\n  'cp': False,\n  'level': '1',\n  'last_seen': '1 Hour ago'},\n {'name': 'Crafting Motif 11: Ancient Elf Style',\n  'location': 'Stormhaven: Wayrest',\n  'guild': 'Tamriel shopping center',\n  'price': 3000.0,\n  'quality': 3,\n  'cp': False,\n  'level': '1',\n  'last_seen': '26 Minute ago'},\n {'name': 'Crafting Motif 42: Hollowjack Bows',\n  'location': 'Summerset: Alinor',\n  'guild': 'Der Tante Emma Laden',\n  'price': 3000.0,\n  'quality': 3,\n  'cp': False,\n  'level': '1',\n  'last_seen': '6 Hour ago'},\n {'name': 'Crafting Motif 85: Greymoor Staves',\n  'location': 'Vvardenfell: Sadrith Mora',\n  'guild': 'DarkElements',\n  'price': 3000.0,\n  'quality': 3,\n  'cp': False,\n  'level': '1',\n  'last_seen': '1 Hour ago'},\n {'name': 'Crafting Motif 85: Greymoor Axes',\n  'location': \"Stonefalls: Davon's Watch's Outlaw Refuge\",\n  'guild': 'Sithis Hatred',\n  'price': 3000.0,\n  'quality': 3,\n  'cp': False,\n  'level': '1',\n  'last_seen': '3 Hour ago'}]"
     },
     "execution_count": 11,
     "metadata": {},
     "output_type": "execute_result"
    }
   ],
   "source": [
    "rows"
   ],
   "metadata": {
    "collapsed": false,
    "pycharm": {
     "name": "#%%\n"
    }
   }
  },
  {
   "cell_type": "code",
   "execution_count": 12,
   "outputs": [
    {
     "data": {
      "text/plain": "{'sip of weapon power': {'450': 1},\n 'dwarven cuirass of stamina': {'300': 2},\n 'gingerose tea': {'21': 4},\n 'slight glyph of increase physical harm': {'1250': 6},\n 'superb glyph of decrease health': {'950': 7},\n 'voidsteel dagger of shock': {'250': 8},\n 'hide jack of stamina': {'300': 9},\n 'darkstride jack': {'300': 10},\n 'calcinium battle axe of shock': {'250': 11},\n 'greaves of the fire': {'300': 12},\n 'fell jack of stamina': {'300': 13},\n 'dram of health': {'450': 14},\n 'dwarven girdle of health': {'300': 15},\n 'mahogany inferno staff': {'250': 16},\n \"oath-speaker's boots\": {'300': 17},\n 'cuirass of the fang': {'300': 18},\n \"huntmaster's leash\": [19],\n 'happy ogrim amber ale': {'24': 20},\n 'bitter remorse ale': {'23': 21},\n 'recipe: ginkgo tonic': {'171': 23},\n \"whitestrake's hat\": {'300': 24},\n 'major glyph of flame': {'950': 25},\n 'dunerunners': {'300': 26},\n 'recipe: hello handsome porter': {'171': 27},\n 'yew inferno staff of flame': {'250': 28},\n \"pact's sword\": {'250': 29},\n 'calcinium girdle of health': {'300': 30},\n \"clan mother's banana pilaf\": {'2': 31},\n 'sanded oak': {'1650': 32},\n \"izad's treasure\": [33],\n 'necklace of adroitness': [34],\n 'west weald wallop': {'24': 35},\n 'sabatons of the dreugh king slayer': {'300': 37},\n 'gloves of hist bark': {'300': 38},\n 'spidersilk hat': {'300': 39},\n 'major glyph of potion speed': {'1250': 40},\n 'rawhide boots': {'300': 41},\n 'inferior glyph of magicka recovery': {'1250': 42},\n 'recipe: drowned sailor ale': {'171': 43},\n 'ice furnace girdle': {'300': 44},\n \"gauntlets of kagrenac's hope\": {'300': 45},\n \"pauldron of oblivion's foe\": {'300': 46},\n 'ebon dagger of flame': {'250': 47},\n 'robes of the warlock': {'300': 48},\n 'bracers of the sentry': {'300': 49},\n 'nightwood inferno staff of shock': {'250': 51},\n 'mahogany ice staff of frost': {'250': 52},\n \"whitestrake's breeches\": {'300': 53},\n \"keeper's medallion\": [54],\n 'ebon maul of frost': {'250': 55},\n \"summoner's shoulderpads\": {'300': 56},\n 'trifling glyph of magicka recovery': {'1250': 57},\n 'greaves of truth': {'300': 58},\n \"shield of kagrenac's hope\": {'250': 59},\n 'cuirass of truth': {'300': 60},\n 'planar armor scraps': {'102': 62},\n 'brigandine helmet of magicka': {'300': 63},\n 'oak shield of health': {'250': 65},\n 'gauntlets of the seducer': {'300': 66},\n 'recipe: banana surprise': {'170': 67},\n 'sash of the warlock': {'300': 68},\n \"dagger of vampire's kiss\": {'250': 69},\n 'bracers of hist bark': {'300': 70},\n 'jerkin of meritorious service': {'300': 72},\n \"whitestrake's shoes\": {'300': 73},\n 'inferno staff of the seducer': {'250': 74},\n 'trifling glyph of health': {'1000': 75},\n \"red queen's eye-opener\": {'26': 77},\n 'leg guards of the red mountain': {'300': 78},\n 'moderate glyph of weapon damage': {'950': 79},\n \"render's axe\": {'250': 80},\n 'monumental glyph of disease resist': {'1250': 81},\n 'monumental glyph of magicka': {'1000': 82},\n 'blackwood stuffed banana leaves': {'6': 83},\n 'aqua vitae': {'26': 84},\n 'bleakrock treasure map ii': {'100': 85},\n \"arm cops of torug's pact\": {'300': 86},\n 'mahogany bow of shock': {'250': 87},\n 'steel greaves of health': {'300': 88},\n 'galatite axe of shock': {'250': 89},\n 'raw kreshweed': {'1700': 90},\n 'ultimate riverhold beef pasty': {'7': 91},\n \"boots of the archer's mind\": {'300': 92},\n \"greaves of alessia's bulwark\": {'300': 93},\n 'average glyph of health': {'1000': 94},\n 'jack of hist bark': {'300': 95},\n 'rubedite gauntlets of stamina': {'300': 96},\n \"belt of the archer's mind\": {'300': 97},\n 'breton bubble-and-squeak': {'5': 98},\n 'the rift treasure map vi': {'100': 99},\n 'pauldron of the arena': {'300': 100},\n 'cyrodiil treasure map xvi': {'100': 101},\n 'recipe: orcrest garlic apple jelly': {'170': 103},\n 'ruby ash inferno staff of shock': {'250': 104},\n 'steel greaves': {'300': 105},\n 'claymore of the crucible': {'250': 106},\n 'recipe: salmon with radish slaw': {'170': 107},\n 'acai tonic infusion': {'22': 108},\n \"pauldrons of akatosh's blessing\": {'300': 109},\n 'water hyacinth': {'150': 110},\n 'kragenmoor pickled pumpkin': {'2': 111},\n 'tomato soup': {'2': 112},\n \"dominion's greatsword\": {'250': 113},\n \"sash of night's silence\": {'300': 114},\n 'leathers of the emancipator': {'300': 115},\n 'sanded ruby ash': {'1650': 117},\n 'shadowhide boots of stamina': {'300': 118},\n 'quicksilver helm of magicka': {'300': 119},\n 'simple bait': {'750': 120},\n 'major glyph of foulness': {'950': 123},\n 'helmet of the undaunted infiltrator': {'300': 124},\n \"boots of shalidor's curse\": {'300': 125},\n 'dagger of hist bark': {'250': 126},\n 'potion of maim': {'450': 127},\n 'silverweave shoes of stamina': {'300': 128},\n \"magnus' inferno staff\": {'250': 129},\n 'bracers of the undaunted infiltrator': {'300': 130},\n \"uulgarg's bones\": [131],\n 'ancestor silk gloves of stamina': {'300': 132},\n 'monumental glyph of potion speed': {'1250': 133},\n 'superb glyph of frost resist': {'1250': 134},\n 'steel cuirass of stamina': {'300': 135},\n 'spidersilk shoes of magicka': {'300': 136},\n 'splendid glyph of absorb health': {'950': 137},\n 'red deer stew': {'4': 138},\n 'bracers of ashen grip': {'300': 139},\n 'alessian bracers': {'300': 140},\n 'essence of spell critical': {'450': 141},\n 'gloves of the necromancer': {'300': 142},\n 'imperial stout': {'24': 143},\n 'full-leather helmet of health': {'300': 144},\n 'moderate glyph of reduce spell cost': {'1250': 145},\n 'shadowspun hat': {'300': 146},\n 'hide helmet of stamina': {'300': 147},\n 'jera': {'2300': 148},\n 'ring of the ghost knight': [149],\n 'tharn family ring': [150],\n 'hammer of swift justice': {'250': 151},\n \"band of cyrodiil's light\": [152],\n 'cotton': {'1750': 153},\n 'mightmaker': {'250': 154},\n \"selene's scepter\": {'250': 155},\n \"recipe: cheesemonger's salad\": {'170': 156},\n 'rubedite greaves of magicka': {'300': 157},\n 'shoes of the onslaught': {'300': 158},\n 'belt of the morag tong': {'300': 159},\n 'truly superb glyph of shock resist': {'1250': 160},\n 'jerkin of the arch-mage': {'300': 161},\n 'sanded beech': {'1650': 162},\n \"sabatons of vampire's kiss\": {'300': 163},\n 'mazte': {'20': 164},\n 'lemonic invigoration': {'22': 167},\n \"bow of alessia's bulwark\": {'250': 168},\n 'recipe: pumpkin cheesecake': {'170': 170},\n 'recipe: psijic ambrosia, fragment ii': {'104': 172},\n 'homespun gloves of stamina': {'300': 173},\n 'ice furnace cuirass': {'300': 174},\n 'gloves of the sun': {'300': 175},\n 'shoes of ashen grip': {'300': 176},\n 'galatite greatsword of flame': {'250': 177},\n \"khenarthi's roost treasure map iii\": {'100': 178},\n 'iron greaves of health': {'300': 179},\n 'shield of the unassailable': {'250': 180},\n 'effusion of health': {'450': 182},\n \"recipe: arenthia's empty tankard frittata\": {'170': 183},\n 'bracers of the powerful assault': {'300': 184},\n 'inferno staff of hist bark': {'250': 185},\n 'direnni hundred-year rabbit bisque': {'7': 186},\n 'cyrodiil treasure map xviii': {'100': 187},\n 'sword of the song of lamae': {'250': 188},\n 'wyress sash': {'300': 189},\n 'recipe: rose herbal tea': {'171': 190},\n \"shield of the willow's path\": {'250': 191},\n 'sandstone guard': {'250': 192},\n 'quicksilver sabatons of stamina': {'300': 193},\n 'greaves of affliction': {'300': 194},\n 'grand glyph of crushing': {'950': 195},\n 'beech shield of magicka': {'250': 196},\n 'comberry citrus quencher': {'21': 197},\n 'recipe: falkreath rosy mead': {'171': 198},\n \"nereid's slippers\": {'300': 199},\n 'ebonthread hat of health': {'300': 200},\n 'melon jelly': {'2': 201},\n 'brigandine arm cops of magicka': {'300': 202},\n 'recipe: boiled creme treat': {'170': 203},\n 'superb boots of stamina': {'300': 205},\n 'rawhide arm cops of health': {'300': 206},\n 'rawhide bracers': {'300': 207},\n 'ironthread gloves of health': {'300': 208},\n 'guards of ashen grip': {'300': 209},\n 'hickory ice staff of frost': {'250': 210},\n 'dreugh wax': {'1900': 211},\n \"sun's height pudding\": {'6': 212},\n 'sash of ashen grip': {'300': 213},\n 'epaulets of the eyes of mara': {'300': 214},\n 'eastmarch treasure map ii': {'100': 215},\n 'panacea of entrapment': {'450': 216},\n 'sanded yew': {'1650': 217},\n 'minor glyph of flame resist': {'1250': 218},\n 'kresh gloves of magicka': {'300': 219},\n 'quicksilver pauldron of magicka': {'300': 220},\n 'rubedite girdle of health': {'300': 222},\n 'bracers of the seducer': {'300': 224},\n 'monumental glyph of poison resist': {'1250': 225},\n 'full-leather belt of stamina': {'300': 226},\n 'voidsteel battle axe': {'250': 227},\n 'sanded mahogany': {'1650': 228},\n \"pirate's jig tonic\": {'22': 229},\n 'greater glyph of decrease spell harm': {'1250': 230},\n 'strong glyph of poison resist': {'1250': 231},\n 'horker loaf': {'7': 232},\n 'pact signet': [233],\n \"pact's epaulets\": {'300': 234},\n \"whitestrake's shield\": {'250': 235},\n 'shoes of syrabane': {'300': 236},\n 'fell guards of magicka': {'300': 237},\n \"dagger of night's silence\": {'250': 238},\n 'average glyph of potion boost': {'1250': 239},\n 'hat of redistribution': {'300': 240},\n 'gloves of the warlock': {'300': 241},\n \"fiord's guards\": {'300': 242},\n 'copper necklace of stamina recovery': [243],\n \"quintus' exploding staff\": {'250': 244},\n 'oak ice staff of shock': {'250': 245},\n 'recipe: puckermint tea': {'171': 246},\n 'recipe: pondwater tea': {'171': 247},\n 'thunderous pendant': [248],\n 'cuirass of nikulas': {'300': 249},\n 'greaves of hist bark': {'300': 250},\n 'rivenspire treasure map ii': {'100': 251},\n 'full-leather guards of stamina': {'300': 252},\n 'garlic': {'43': 253},\n 'slight glyph of shock': {'950': 254},\n 'kresh gloves of health': {'300': 255},\n 'monumental glyph of bashing': {'1250': 256},\n 'calcinium greatsword': {'250': 257},\n \"arm cops of the willow's path\": {'300': 258},\n 'alessian hat': {'300': 259},\n \"goatherd's pie\": {'7': 260},\n 'corinthe corn beef': {'7': 261},\n 'breeches of the shadow dancer': {'300': 262},\n 'homespun robe of health': {'300': 263},\n 'greaves of the dragon': {'300': 264},\n 'dwarven girdle of magicka': {'300': 265},\n 'calcinium sword of flame': {'250': 266},\n 'galatite girdle of stamina': {'300': 267},\n 'greater glyph of shock resist': {'1250': 268},\n 'recipe: apple baked fish': {'170': 269},\n 'distillate of ravage health': {'450': 270},\n \"covenant's jack\": {'300': 271},\n 'recipe: cyrodilic cornbread': {'170': 272},\n 'raven rock baked ash yams': {'5': 273},\n 'pact amulet': {'103': 274},\n 'shadowspun robe of health': {'300': 275},\n 'galatite dagger': {'250': 276},\n 'rekura': {'2300': 278},\n 'mark of the legion': {'102': 279},\n 'rawhide belt': {'300': 281},\n \"sword of night's silence\": {'250': 282},\n 'ancestor silk shoes of magicka': {'300': 283},\n 'nightwood lightning staff': {'250': 284},\n 'recipe: mudcrab corn fritters': {'170': 285},\n 'average glyph of decrease health': {'950': 287},\n 'filtered water': {'1450': 288},\n \"shirt of torug's pact\": {'300': 289},\n \"abbot's prayer sash\": {'300': 290},\n 'axe of the elder sister': {'250': 291},\n 'sour mash': {'20': 292},\n \"covenant's robe\": {'300': 294},\n 'solution of ravage health': {'450': 295},\n \"the high king's war axe\": {'250': 296},\n \"sabatons of night's silence\": {'300': 297},\n 'guards of the viper': {'300': 298},\n 'beech inferno staff of flame': {'250': 299},\n 'ancestor silk epaulets': {'300': 300},\n 'sweet scamp sake': {'20': 301},\n 'fire opal': {'2050': 302},\n 'recipe: kagouti kick mazte': {'171': 304},\n 'helmet of the red mountain': {'300': 305},\n 'breeches of prayer': {'300': 306},\n 'cotton hat': {'300': 307},\n 'orichalc maul': {'250': 308},\n 'robe of syrabane': {'300': 309},\n \"klathzgar's fingergloves\": {'300': 310},\n 'rawhide boots of stamina': {'300': 312},\n 'dreamless staff': {'250': 314},\n 'afflicted helm': {'300': 316},\n 'birch inferno staff of shock': {'250': 317},\n 'pewter ring of bracing': [318],\n 'recipe: ginseng tonic': {'171': 319},\n 'elegant epaulets': {'300': 320},\n 'oyster tomato orzo': {'4': 322},\n 'sip of uncertainty': {'450': 323},\n 'splendid glyph of stamina': {'1000': 325},\n 'ordinator rerebrace': {'300': 327},\n 'raw silverweed': {'1700': 328},\n 'imperial warhammer': {'250': 329},\n 'bracers of the crusader': {'300': 330},\n \"broodmother's knot\": [331],\n 'recipe: pork and bitter melon': {'170': 332},\n 'minor glyph of stamina': {'1000': 333},\n 'ancestor silk breeches of magicka': {'300': 334},\n 'fell jack of magicka': {'300': 335},\n 'lesser glyph of decrease spell harm': {'1250': 336},\n 'taderi': {'2400': 337},\n 'guilehammer': {'250': 338},\n 'recipe: rye-in-your-eye': {'171': 339},\n 'dominion scattershot catapult': {'404': 340},\n 'trifling glyph of potion speed': {'1250': 341},\n 'bangkorai treasure map vi': {'100': 342},\n 'glenumbra treasure map iv': {'100': 344},\n 'recipe: old clear-eye whiskey': {'171': 345},\n 'rekude': {'2300': 347},\n 'orichalcum ore': {'1500': 348},\n \"mistwalker's cord\": {'300': 349},\n 'deadly pincer': {'250': 352},\n 'linen gloves': {'300': 353},\n 'inferior glyph of reduce spell cost': {'1250': 354},\n 'rubedite cuirass of magicka': {'300': 355},\n 'rubedo leather boots': {'300': 356},\n 'inferior glyph of stamina recovery': {'1250': 357},\n 'stonefalls treasure map v': {'100': 358},\n 'moderate glyph of hardening': {'950': 359},\n 'pauldron of ashen grip': {'300': 360},\n 'cotton robe': {'300': 361},\n 'leather boots': {'300': 362},\n 'dwarven greatsword of foulness': {'250': 365},\n 'birch inferno staff of absorb magicka': {'250': 366},\n 'superb glyph of hardening': {'950': 367},\n 'bracers of the armor master': {'300': 368},\n 'bracers of the lich': {'300': 369},\n 'hat of meritorious service': {'300': 370},\n 'recipe: cantaloupe bread': {'170': 371},\n 'recipe: blue banekin beer': {'171': 372},\n 'gauntlets of the dragon': {'300': 373},\n 'puckermint tea': {'21': 374},\n 'wolf pelt mantle': {'300': 375},\n 'breeches of the noble duelist': {'300': 376},\n \"foreman's ring\": [377],\n 'monumental glyph of frost': {'950': 378},\n 'recipe: sour gin fizz': {'171': 380},\n 'homespun jerkin of stamina': {'300': 381},\n 'soul gem (empty)': {'900': 382},\n 'solution of enervation': {'450': 383},\n 'cinnamon grape jelly': {'2': 384},\n 'superb helmet of health': {'300': 385},\n 'superb glyph of crushing': {'950': 386},\n 'hemming': {'1900': 388},\n 'ironhide jack': {'300': 389},\n 'camlorn pork sausage': {'1': 390},\n 'ironthread robe of health': {'300': 391},\n 'helm of affliction': {'300': 392},\n 'recipe: pink profundity': {'171': 393},\n \"bow of shalidor's curse\": {'250': 394},\n 'blackwood mint chai': {'25': 395},\n 'jayde': {'2300': 396},\n 'steel axe': {'250': 397},\n 'quicksilver axe of frost': {'250': 398},\n 'girdle of the juggernaut': {'300': 399},\n 'potion of cowardice': {'450': 400},\n 'dominion cold fire trebuchet': {'400': 401},\n 'solution of maim': {'450': 402},\n 'recipe: green salad': {'170': 403},\n 'dwarven gauntlets of health': {'300': 404},\n \"the emperor's venison fricassee\": {'7': 405},\n 'ebonthread sash': {'300': 406},\n 'acai dry mazte': {'24': 407},\n 'knife of shadows': {'250': 408},\n 'superb glyph of bashing': {'1250': 409},\n 'copper necklace of increase physical harm': [410],\n 'rubedite helm of stamina': {'300': 411},\n 'recipe: pink wisdom tea': {'171': 412},\n 'major glyph of absorb stamina': {'950': 413},\n 'reactive sabatons': {'300': 414},\n 'clavicus vines chenin blanc': {'23': 415},\n 'ring of the unassailable': [416],\n 'steel greatsword of flame': {'250': 417},\n 'axe of sacrifice': {'250': 418},\n 'iron dagger of flame': {'250': 419},\n \"gloves of the noble's conquest\": {'300': 420},\n 'helmet of the night mother': {'300': 421},\n \"hammer of vampire's kiss\": {'250': 422},\n 'maple lightning staff of flame': {'250': 423},\n 'deteri': {'2400': 424},\n 'sash of the undaunted bastion': {'300': 425},\n 'lesser glyph of absorb health': {'950': 426},\n \"ice staff of hunding's rage\": {'250': 427},\n 'monumental glyph of flame': {'950': 428},\n 'nightwood lightning staff of flame': {'250': 429},\n 'stygian belt': {'300': 430},\n 'shadowhide belt of magicka': {'300': 431},\n \"goblin-slayer's coif\": {'300': 432},\n 'truly superb glyph of decrease spell harm': {'1250': 433},\n \"recipe: vivec's gingergreen chai\": {'171': 434},\n 'inferior glyph of increase physical harm': {'1250': 435},\n 'tincture of health': {'450': 436},\n 'calcinium battle axe of frost': {'250': 437},\n 'ayleid greatsword': {'250': 438},\n 'recipe: surilie bros. white merlot': {'171': 439},\n 'elegant shoes': {'300': 442},\n 'boots of the seducer': {'300': 443},\n 'raining hammer': {'250': 444},\n 'recipe: redguard venison pie': {'170': 445},\n 'superb jack of health': {'300': 446},\n \"signaler's gloves\": {'300': 447},\n 'ironhide guards': {'300': 448},\n 'yew lightning staff of frost': {'250': 449},\n \"thoran's bond-ring\": [450],\n 'truly superb glyph of crushing': {'950': 451},\n 'white cap': {'151': 452},\n \"breeches of the willow's path\": {'300': 453},\n \"dominion's boots\": {'300': 455},\n 'boots of salvation': {'300': 456},\n 'dwarven greatsword of shock': {'250': 457},\n 'shoes of the necromancer': {'300': 458},\n \"helmet of cyrodiil's ward\": {'300': 459},\n \"gauntlets of cyrodiil's crest\": {'300': 461},\n 'recipe: honey rye': {'171': 462},\n 'dragonstar radish kebabs': {'3': 463},\n 'voidsteel greaves of stamina': {'300': 464},\n \"protector's resolve\": {'250': 465},\n 'dwarven gauntlets': {'300': 466},\n 'narsis wickwheat ale': {'24': 467},\n 'tincture of stamina': {'450': 468},\n 'sanded birch': {'1650': 469},\n 'steel helm of stamina': {'300': 470},\n 'comely wench whisky': {'20': 471},\n 'greef': {'26': 472, '22': 21441},\n 'helm of the undaunted bastion': {'300': 473},\n \"klaandor's pauldrons\": {'300': 474},\n 'rubedite cuirass of stamina': {'300': 475},\n 'sanded nightwood': {'1650': 476},\n 'sorry, honey lager': {'20': 477},\n 'chicken-and-banana fried rice': {'4': 478},\n 'cyrodiil treasure map v': {'100': 479},\n \"dominion's ice staff\": {'250': 480},\n 'epaulets of the warlock': {'300': 481},\n 'tade': {'2300': 483},\n 'epaulets of prayer': {'300': 484},\n 'calcinium helm': {'300': 485},\n 'lightning staff of the song of lamae': {'250': 486},\n 'recipe: cloudy dregs inn bouillabaisse': {'170': 487},\n 'maul of agility': {'250': 488},\n 'hide boots of health': {'300': 489},\n 'shoes of the song of lamae': {'300': 491},\n 'skullmaker': {'250': 492},\n 'hickory bow of frost': {'250': 493},\n 'calcinium maul of shock': {'250': 494},\n 'nightwood restoration staff': {'250': 495},\n 'stygian jack': {'300': 496},\n 'quicksilver girdle of stamina': {'300': 497},\n 'recipe: treacleberry tea': {'171': 499},\n 'ebon greatsword of flame': {'250': 500},\n 'helm of soulshine': {'300': 501},\n 'recipe: jerall view inn carrot cake': {'170': 502},\n 'potion of spell protection': {'450': 503},\n \"fiord's arm cops\": {'300': 504},\n 'moderate glyph of decrease health': {'950': 505},\n 'ruby ash restoration staff of shock': {'250': 506},\n 'recipe: falinesti forbidden fruit': {'170': 507},\n 'ruby ash bow': {'250': 508},\n \"recipe: stendarr's vigilance ginger ale\": {'171': 509},\n 'warhammer of truth': {'250': 510},\n 'corn flower': {'150': 511},\n 'ebonthread hat of stamina': {'300': 512},\n 'average glyph of poison': {'950': 513},\n 'auridon treasure map iv': {'100': 514},\n \"shoes of shalidor's curse\": {'300': 515},\n 'maple inferno staff of frost': {'250': 516},\n 'iron greaves of magicka': {'300': 517},\n 'ironhide bracers of stamina': {'300': 518},\n 'pode': {'2300': 519},\n 'girdle of the night mother': {'300': 520},\n 'ratskewer bow': {'250': 521},\n 'rubedo leather bracers of health': {'300': 522},\n 'hat of the arch-mage': {'300': 524},\n 'quicksilver dagger of frost': {'250': 525},\n 'nightwood shield': {'250': 528},\n 'birch bow': {'250': 529},\n 'sword of willpower': {'250': 530},\n 'the vigilant one': {'250': 531},\n 'sip of spell power': {'450': 532},\n 'berrymead tonic': {'22': 533},\n 'sash of the desert rose': {'300': 534},\n 'panacea of weapon power': {'450': 535},\n 'recipe: monkeypig cutlets': {'170': 536},\n 'exemplary nirnhoned gauntlets': {'300': 537},\n 'orichalc pauldron of stamina': {'300': 538},\n 'fine silk gloves': {'300': 541},\n 'deshaan treasure map vi': {'100': 542},\n 'recipe: seaberry tonic': {'171': 543},\n 'calcinium gauntlets of stamina': {'300': 545},\n 'dagger of the song of lamae': {'250': 546},\n 'ebonthread gloves of health': {'300': 547},\n 'bracers of oblivion': {'300': 548},\n 'fang of the lamia queen': {'250': 549},\n 'epaulets of the magicka furnace': {'300': 550},\n 'birch bow of shock': {'250': 551},\n \"bow of kyne's flight\": {'250': 552},\n 'rough birch': {'1600': 553},\n 'leather guards of magicka': {'300': 554},\n \"girdle of the willow's path\": {'300': 555},\n 'recipe: shimmerene tonic': {'171': 556},\n 'shoes of the undaunted bastion': {'300': 557},\n 'elegant lining': {'1900': 558},\n 'dominion cold fire ballista': {'401': 559},\n 'greatsword of endurance': {'250': 560},\n 'green scourgut tea': {'21': 561},\n 'dwarven helm of magicka': {'300': 563},\n 'jack of the ranger': {'300': 564},\n 'harvest dirk': {'250': 565},\n 'oko': {'2400': 566},\n \"sabatons of hunding's rage\": {'300': 567},\n \"belt of cyrodiil's ward\": {'300': 568},\n 'recipe: camlorn mint tea': {'171': 569},\n \"cuirass of the spectre's eye\": {'300': 570},\n 'ebon greatsword of frost': {'250': 571},\n 'seasoning': {'43': 572},\n 'recipe: hammerfell antelope stew': {'170': 573},\n 'electrum ring of increase physical harm': [574],\n 'argonian saddle-cured rabbit': {'1': 575},\n 'the unbroken': {'250': 576},\n 'dwarven battle axe': {'250': 577},\n 'strong glyph of increase physical harm': {'1250': 578},\n 'hat of sanctuary': {'300': 579},\n \"sir hughes' axe\": {'250': 580},\n 'pendant of the shadow walker': [582],\n 'pink wisdom tea': {'25': 583},\n 'caramelized goat nibbles': {'7': 584},\n 'steel axe of frost': {'250': 586},\n \"girdle of death's wind\": {'300': 587},\n 'tincture of ravage stamina': {'450': 588},\n 'yew restoration staff of shock': {'250': 589},\n 'mahogany inferno staff of shock': {'250': 590},\n 'ebon greatsword of shock': {'250': 591},\n 'ironthread robe of stamina': {'300': 592},\n 'lotus tea': {'21': 593},\n \"shield of vampire's kiss\": {'250': 594},\n \"helm of the willow's path\": {'300': 595},\n 'boots of the red mountain': {'300': 596},\n 'tincture of hindering': {'450': 597},\n 'alessian jack': {'300': 599},\n 'recipe: ultimate riverhold beef pasty': {'170': 600},\n 'essence of stamina': {'450': 601},\n 'robe of prayer': {'300': 602},\n 'potion of weapon power': {'450': 603},\n 'yerba syrah wine': {'24': 604},\n 'strong glyph of increase magical harm': {'1250': 606},\n \"magnus' belt\": {'300': 607},\n \"fiord's jack\": {'300': 608},\n 'dark elf scouting boots': {'300': 609},\n 'quicksilver battle axe of shock': {'250': 610},\n 'crystal tower whiskey': {'20': 611},\n 'stir-fried garlic beef': {'1': 612},\n 'trifling glyph of stamina': {'1000': 613},\n 'shadowhide bracers of health': {'300': 614},\n 'orichalc helm': {'300': 615},\n 'the rift treasure map iv': {'100': 616},\n 'recipe: orcish bratwurst on bun': {'170': 617},\n \"recipe: wizard's whiskey\": {'171': 618},\n 'recipe: dark seducer': {'171': 619},\n 'recipe: grilled timber mammoth kebabs': {'170': 620},\n 'heritance gauntlets': {'300': 621},\n 'turquoise': {'2050': 622},\n 'ta': {'2350': 623},\n 'greater glyph of decrease health': {'950': 624},\n 'okori': {'2400': 625},\n 'pact cold fire trebuchet': {'400': 626},\n 'alessian helmet': {'300': 627},\n 'maul of ashen grip': {'250': 628},\n 'lesser glyph of decrease health': {'950': 629},\n 'cowl of the warlock': {'300': 630},\n 'carrot soup': {'3': 631},\n 'lightning staff of hist bark': {'250': 632},\n 'frostfall pork roast': {'5': 633},\n 'scented leathers': {'300': 634},\n 'recipe: acai dry mazte': {'171': 635},\n 'orichalc sabatons of stamina': {'300': 636},\n \"nedras' leather pants\": {'300': 637},\n \"looter's helm\": {'300': 638},\n 'spidersilk breeches of magicka': {'300': 639},\n 'ebonthread jerkin of stamina': {'300': 640},\n 'petty glyph of shock resist': {'1250': 641},\n 'necklace of the magicka furnace': [642],\n 'charged loop': [643],\n 'major glyph of shock resist': {'1250': 644},\n 'shadowfen treasure map ii': {'100': 645},\n 'girdle of the knightmare': {'300': 646},\n 'epaulets of the arch-mage': {'300': 647},\n 'cheliceral hook': {'250': 648},\n 'galatite greaves of stamina': {'300': 649},\n 'oak lightning staff of flame': {'250': 650},\n 'superb belt of health': {'300': 651},\n 'quicksilver axe of flame': {'250': 652},\n 'recipe: peacock pie': {'170': 653},\n 'hickory inferno staff of shock': {'250': 655},\n \"boots of the noble's conquest\": {'300': 656},\n 'iron gauntlets': {'300': 657},\n 'splitting axe of the titan': {'250': 658},\n \"bow of twilight's embrace\": {'250': 659},\n 'honeyhips brown ale': {'23': 660},\n \"cuirass of shalidor's curse\": {'300': 661},\n 'helm of the arena': {'300': 662},\n 'abecean brandy': {'26': 663},\n 'dremora collar': [664],\n 'recipe: skingrad cabbage soup': {'170': 665},\n 'pauldrons of the first titan': {'300': 666},\n 'gauntlets of the akaviri war': {'300': 667},\n \"sword saint's blade\": {'250': 669},\n \"dominion's sash\": {'300': 670},\n 'solution of hindering': {'450': 671},\n 'recipe: garlic guar stuffed grape leaves': {'170': 672},\n 'recipe: breton bubble-and-squeak': {'170': 673},\n 'linen hat of magicka': {'300': 675},\n 'insect parts, river bait': {'750': 676},\n 'shield of ashen grip': {'250': 677},\n 'orichalcum ingot': {'1550': 678},\n 'ravaging band': [679],\n 'birch shield of stamina': {'250': 681},\n \"recipe: nocturnal's everblack coffee\": {'171': 682},\n 'full-leather boots': {'300': 683},\n 'voidsteel battle axe of flame': {'250': 685},\n 'recipe: sload slime': {'171': 686},\n 'voidsteel greatsword of shock': {'250': 687},\n 'fortified nirncrux': {'2000': 688},\n 'shadowspun shoes of health': {'300': 689},\n 'potion of stamina': {'450': 690},\n \"guards of oblivion's foe\": {'300': 691},\n \"recipe: azura's rose tea\": {'171': 692},\n \"tah-tehat's ring\": [693],\n 'timeless braided cord': [695],\n 'guards of the crusader': {'300': 696},\n 'spidersilk robe': {'300': 697},\n \"helmet of death's wind\": {'300': 698},\n 'glenumbra treasure map iii': {'100': 699},\n 'full-leather arm cops of health': {'300': 700},\n 'grand glyph of frost resist': {'1250': 701},\n 'grand glyph of hardening': {'950': 702},\n \"azura's rose tea\": {'25': 703},\n 'malabal tor treasure map ii': {'100': 704},\n 'cotton hat of health': {'300': 705},\n 'ruby': {'2050': 707},\n 'kagouti kick mazte': {'26': 708},\n 'melon-chevre salad': {'2': 710},\n 'ironhide arm cops of magicka': {'300': 712},\n 'diamond': {'2000': 713},\n 'rubedite maul': {'250': 714},\n 'splendid glyph of decrease physical harm': {'1250': 715},\n 'glenumbra treasure map i': {'100': 716},\n \"pauldron of the willow's path\": {'300': 717},\n 'bog-iron ale': {'20': 718},\n 'makkoma': {'2400': 719},\n 'rawhide belt of stamina': {'300': 720},\n \"alik'r treasure map i\": {'100': 721},\n 'worm drain': {'250': 722},\n 'dwarven greaves': {'300': 723},\n 'ironhide jack of health': {'300': 724},\n 'sweet slaughterfish tea': {'21': 725},\n 'birch bow of flame': {'250': 726},\n 'boots of the ranger': {'300': 727},\n 'iron dagger of absorb magicka': {'250': 729},\n 'recipe: garlic radishes a la kvatch': {'170': 731},\n 'grand glyph of magicka': {'1000': 732},\n 'calcinium mace of shock': {'250': 733},\n 'recipe: pumpkin puree': {'170': 736},\n 'quicksilver battle axe of flame': {'250': 737},\n 'fleshlinks': [738],\n 'superb glyph of weapon damage': {'950': 739},\n 'arm cops of hist bark': {'300': 740},\n 'galatite sabatons of stamina': {'300': 741},\n 'kaderi': {'2400': 742},\n 'mint chai': {'21': 743},\n 'major glyph of reduce feat cost': {'1250': 744},\n 'recipe: cardiac arrest': {'171': 745},\n 'voidsteel pauldron of stamina': {'300': 746},\n \"hunt-wife's beef radish stew\": {'5': 747},\n 'rubedo leather boots of health': {'300': 748},\n 'maple restoration staff of flame': {'250': 749},\n \"ixniaa's jewels\": [751],\n 'nightwood bow of frost': {'250': 752},\n 'recipe: redoran peppered melon': {'170': 753},\n 'jack of oblivion': {'300': 754},\n 'recipe: greef': {'171': 755},\n 'ironthread robe': {'300': 756},\n \"greatsword of oblivion's foe\": {'250': 757},\n 'panacea of spell critical': {'450': 758},\n \"apprentice's leggings\": {'300': 759},\n 'voidsteel mace of shock': {'250': 760},\n \"lightning staff of hunding's rage\": {'250': 761},\n 'recipe: dreugh spit': {'171': 762},\n \"greaves of night's silence\": {'300': 763},\n \"greatsword of twilight's embrace\": {'250': 764},\n \"lothson's smasher\": {'250': 765},\n 'chorrol corn on the cob': {'3': 766},\n 'quicksilver girdle of health': {'300': 767},\n 'minor glyph of reduce feat cost': {'1250': 769},\n 'orichalc axe': {'250': 770},\n 'kaveh stout': {'24': 771},\n 'steel sabatons': {'300': 772},\n \"hat of death's wind\": {'300': 773},\n 'boots of the morag tong': {'300': 774},\n \"crofter's corslet\": {'300': 775},\n 'iron dagger of shock': {'250': 776},\n 'garlic guar stuffed grape leaves': {'2': 777},\n 'dwarven cuirass': {'300': 778},\n 'hearthfire harvest pilaf': {'6': 779},\n 'ebonthread gloves of stamina': {'300': 780},\n 'helmet of the undaunted bastion': {'300': 781},\n 'fell helmet of magicka': {'300': 782},\n 'jasrana tea tonic': {'25': 783},\n 'breeches of redistribution': {'300': 784},\n 'recipe: gazelle cutlet with minced pumpkin': {'170': 786},\n 'voidsteel greatsword of flame': {'250': 787},\n \"girdle of torug's pact\": {'300': 788},\n 'shoes of the eyes of mara': {'300': 789},\n 'galatite ingot': {'1550': 790},\n \"dominion's arm cops\": {'300': 791},\n 'nightwood restoration staff of shock': {'250': 792},\n \"khenarthi's wings chai\": {'21': 793},\n 'ash restoration staff of flame': {'250': 794},\n 'maul of willpower': {'250': 795},\n 'purified water': {'1450': 796},\n 'stonechewer maul': {'250': 797},\n 'splendid glyph of magicka': {'1000': 798},\n 'girdle of elf bane': {'300': 799},\n 'flaming oil': {'407': 800},\n 'salmon': {'2450': 801},\n 'recipe: black coffee': {'171': 802},\n 'jack of redistribution': {'300': 803},\n 'ironthread hat': {'300': 804},\n 'recipe: sweet slaughterfish tea': {'171': 806},\n \"grandmam's roast rabbit\": {'5': 807},\n 'strong glyph of reduce spell cost': {'1250': 808},\n 'quicksilver sword': {'250': 809},\n \"restoration staff of night's silence\": {'250': 810},\n 'voidsteel sword of shock': {'250': 811},\n 'sabatons of the undaunted bastion': {'300': 813},\n 'lost imperial band': [814],\n 'beech bow': {'250': 815},\n \"spinner's taboo salad\": {'6': 816},\n 'average glyph of poison resist': {'1250': 817},\n \"recipe: psijic sage's mazte\": {'171': 818},\n 'dwarven greatsword': {'250': 819},\n 'recipe: green bananas with garlic': {'170': 820},\n 'lightning staff of the night mother': {'250': 821},\n 'mahogany shield of stamina': {'250': 822},\n 'truly superb glyph of stamina recovery': {'1250': 823},\n 'hickory shield of magicka': {'250': 824},\n 'voidsteel girdle of stamina': {'300': 825},\n 'recipe: tarragon chicken': {'170': 826},\n 'minor glyph of health': {'1000': 827},\n 'moderate glyph of reduce feat cost': {'1250': 828},\n 'ginkgo double brandy': {'24': 829},\n 'elsweyr corn fritters': {'6': 831},\n 'nightwood restoration staff of foulness': {'250': 832},\n \"magnus' shirt\": {'300': 833},\n 'recipe: five-fireball infusion': {'171': 834},\n 'recipe: berveza vitae': {'171': 835},\n 'iron greatsword of shock': {'250': 836},\n 'recipe: radishes in rice': {'170': 837},\n 'helmet of ashen grip': {'300': 838},\n 'calcinium ore': {'1500': 840},\n 'gilane garlicky greens': {'3': 841},\n \"garron's cold betrayal\": {'250': 842},\n 'monumental glyph of health recovery': {'1250': 843},\n 'hat of syrabane': {'300': 845},\n 'ring of the shadow walker': [846],\n 'leather arm cops': {'300': 847},\n \"gloves of hunding's rage\": {'300': 848},\n 'average glyph of increase magical harm': {'1250': 849},\n 'full-leather arm cops of stamina': {'300': 850},\n 'cotton gloves of stamina': {'300': 852},\n \"recipe: athlete's guzzle\": {'171': 853},\n 'transmuted kwama shell': {'250': 854},\n 'recipe: bitterlemon tea': {'171': 856},\n 'necklace of agility': [857],\n 'ash inferno staff': {'250': 858},\n 'iron axe of shock': {'250': 859},\n 'recipe: mintmead kaveh': {'171': 860},\n 'splendid glyph of foulness': {'950': 861},\n 'galatite gauntlets': {'300': 862},\n 'dagger of the arena': {'250': 863},\n 'betnikh treasure map ii': {'100': 864},\n 'gloves of the arena': {'300': 865},\n 'major glyph of weakening': {'950': 866},\n 'lesser glyph of magicka': {'1000': 867},\n 'rera': {'2300': 868},\n 'green salad': {'3': 869},\n \"dagger of death's wind\": {'250': 871},\n 'ordinator boots': {'300': 872},\n 'splendid glyph of decrease health': {'950': 873},\n \"pauldron of night's silence\": {'300': 874},\n \"epaulets of the noble's conquest\": {'300': 875},\n 'galatite helm': {'300': 876},\n 'shimmerene tonic': {'22': 877},\n 'rubedo leather guards of magicka': {'300': 878},\n \"dagger of the noble's conquest\": {'250': 879},\n 'mask of the darkest seducer': {'300': 881},\n 'pauldrons of soulshine': {'300': 882},\n 'carnelian': {'2050': 883},\n 'petty glyph of reduce feat cost': {'1250': 884},\n 'black marsh wamasu loin': {'4': 885},\n 'maple bow of flame': {'250': 886},\n \"axe of oblivion's foe\": {'250': 887},\n 'hide bracers of magicka': {'300': 888},\n 'quicksilver battle axe': {'250': 889},\n 'topgrain hide': {'1750': 890},\n 'bow of the song of lamae': {'250': 891},\n 'recipe: cornerclub kaveh': {'171': 892},\n 'recipe: port hunding cheese fries': {'170': 893},\n 'recipe: wamasu spew': {'171': 894},\n 'monastic slippers': {'300': 895},\n 'boots of the shadow walker': {'300': 897},\n \"skald-king's pauldrons\": {'300': 898},\n 'malabal tor treasure map i': {'100': 899},\n \"pact's ice staff\": {'250': 900},\n 'calcinium axe': {'250': 901},\n 'treacleberry tea': {'21': 903},\n \"reaper's march treasure map iv\": {'100': 904},\n 'shoes of the undaunted unweaver': {'300': 905},\n \"magnus' hat\": {'300': 907},\n \"necklace of akatosh's blessing\": [908],\n 'silverweave shoes': {'300': 909},\n 'orichalc greatsword': {'250': 910},\n 'stormhaven treasure map vi': {'100': 911},\n 'galatite greaves of health': {'300': 912},\n 'splendid glyph of potion speed': {'1250': 913},\n 'summer mazte': {'23': 915},\n 'quicksilver maul of shock': {'250': 916},\n 'rough maple': {'1600': 917},\n 'ancestor silk jerkin of stamina': {'300': 918},\n 'major glyph of poison resist': {'1250': 919},\n 'robe of the lich': {'300': 920},\n 'recipe: baked sole with bananas': {'170': 921},\n \"areldur's ring\": [922],\n \"helm of hunding's rage\": {'300': 923},\n 'reactive cuirass': {'300': 924},\n 'lesser glyph of flame resist': {'1250': 925},\n 'rawhide boots of health': {'300': 926},\n \"recipe: sanguine's temptation\": {'171': 927},\n 'recipe: abecean brandy': {'171': 929},\n 'robe of meritorious service': {'300': 930},\n 'daedra heart': {'1950': 931},\n 'oak lightning staff of frost': {'250': 932},\n \"potentate's supreme cioppino\": {'7': 933},\n 'duck soup': {'7': 934},\n 'cotton jerkin of stamina': {'300': 935},\n 'helm of the dreugh king slayer': {'300': 936},\n 'shadowspun breeches of health': {'300': 937},\n 'nightwood inferno staff': {'250': 938},\n \"pauldron of death's wind\": {'300': 939},\n 'elixir of weapon power': {'450': 940},\n 'spadetail': {'2450': 941},\n 'lesser glyph of poison resist': {'1250': 942},\n 'birch lightning staff of shock': {'250': 943},\n 'electrum necklace of increase physical harm': [944],\n \"khralek's anguish\": {'250': 945},\n 'robe of destruction mastery': {'300': 946},\n 'leafring': [947],\n 'mahogany bow': {'250': 948},\n 'girdle of ashen grip': {'300': 949},\n \"battle axe of the willow's path\": {'250': 950},\n 'brigandine guards of health': {'300': 951},\n 'recipe: beef and beets pasty': {'170': 952},\n 'pork and bitter melon': {'4': 953},\n 'lion guard great helm': {'300': 955},\n 'ashlander ochre mash': {'6': 956},\n 'alessian robe': {'300': 957},\n 'werewolf hide band': [958],\n 'splendid glyph of absorb magicka': {'950': 959},\n 'recipe: khajiiti apple spanakopita': {'170': 960},\n 'dreughsdeath': {'250': 961},\n 'panacea of speed': {'450': 962},\n 'enemies explode': {'26': 963},\n 'maple restoration staff': {'250': 964},\n 'hade': {'2300': 965},\n 'average glyph of bashing': {'1250': 966},\n \"pact's greatsword\": {'250': 968},\n 'bow of agility': {'250': 969},\n 'surilie bros. white merlot': {'24': 970},\n 'inferno staff of the night mother': {'250': 971},\n 'pewter necklace of reduce feat cost': [972],\n 'dwarven sword of shock': {'250': 973},\n 'silverweave epaulets of stamina': {'300': 974},\n 'rabbit corn chowder': {'5': 975},\n 'shirt of the arena': {'300': 976},\n 'minor glyph of potion speed': {'1250': 977},\n 'moderate glyph of absorb magicka': {'950': 978},\n \"lord's longsword\": {'250': 979},\n \"robe of torug's pact\": {'300': 980},\n 'pact stone trebuchet': {'400': 981},\n 'slight glyph of frost resist': {'1250': 982},\n 'strong glyph of weapon damage': {'950': 983},\n 'truly superb glyph of absorb stamina': {'950': 984},\n 'recipe: sweet horker stew': {'170': 985},\n 'monumental glyph of reduce spell cost': {'1250': 986},\n 'bow of the seducer': {'250': 987},\n 'ebon helm of health': {'300': 988},\n 'ebon mace of frost': {'250': 989},\n 'beech bow of frost': {'250': 990},\n 'recipe: hearthfire harvest pilaf': {'170': 991},\n 'grilled camel on cornbread': {'5': 992},\n 'quicksilver cuirass of magicka': {'300': 993},\n 'dwarven girdle of stamina': {'300': 994},\n 'tomato': {'42': 995},\n 'kresh jerkin of magicka': {'300': 996},\n 'homespun shoes of stamina': {'300': 997},\n 'voidsteel helm of health': {'300': 998},\n 'girdle of the arena': {'300': 1000},\n 'truly superb glyph of magicka recovery': {'1250': 1001},\n 'shoulder cops of the viper': {'300': 1002},\n 'ravaging cuirass': {'300': 1003},\n 'voidsteel girdle of magicka': {'300': 1005},\n \"inferno staff of the willow's path\": {'250': 1006},\n 'recipe: cinnamon grape jelly': {'170': 1007},\n 'full-leather jack of stamina': {'300': 1009},\n 'ruin': {'250': 1010},\n 'shadowspun epaulets': {'300': 1011},\n 'calcinium helm of stamina': {'300': 1012},\n 'recipe: twenty-four-raven pie': {'170': 1013},\n 'craglorn treasure map vi': {'100': 1015},\n 'dwarven oil': {'1800': 1016},\n 'yew shield of stamina': {'250': 1017},\n 'iron helm of stamina': {'300': 1018},\n 'rubedite gauntlets': {'300': 1019},\n 'orichalc pauldron': {'300': 1020},\n 'pendant of soulshine': [1021],\n 'spidersilk shoes': {'300': 1022},\n 'oak bow of flame': {'250': 1023},\n 'curried kwama scrib risotto': {'1': 1024},\n 'average glyph of weapon damage': {'950': 1025},\n 'ebon battle axe of shock': {'250': 1026},\n \"merchant guardian's pauldrons\": {'300': 1027},\n \"magnus' girdle\": {'300': 1029},\n 'sabatons of ashen grip': {'300': 1030},\n 'ebon battle axe of flame': {'250': 1031},\n 'pojora': {'2300': 1033},\n 'combwort flatbread': {'2': 1034},\n 'recipe: animate-the-dead': {'171': 1035},\n \"pact's belt\": {'300': 1036},\n 'recipe: crispy cheddar chicken': {'170': 1037},\n 'recipe: enlightenment tea': {'171': 1038},\n 'roasted beet and millet salad': {'3': 1039},\n 'rubedo leather belt of health': {'300': 1040},\n 'greaves of elf bane': {'300': 1041},\n 'craglorn treasure map i': {'100': 1042},\n 'voidsteel cuirass': {'300': 1043},\n 'orichalc battle axe of frost': {'250': 1044},\n 'major glyph of hardening': {'950': 1045},\n 'superb glyph of increase magical harm': {'1250': 1046},\n \"alik'r beets with goat cheese\": {'3': 1047},\n 'crawdad quiche': {'1': 1048},\n 'monkeypig cutlets': {'4': 1049},\n \"inferno staff of kagrenac's hope\": {'250': 1050},\n 'ironthread': {'1750': 1051},\n 'recipe: bitter remorse ale': {'171': 1052},\n 'brigandine boots': {'300': 1053},\n 'ironthread jerkin of stamina': {'300': 1054},\n 'ebon mace': {'250': 1055},\n 'elixir of cowardice': {'450': 1056},\n 'linen epaulets of magicka': {'300': 1057},\n 'gods-blind-me': {'20': 1058},\n 'cinnamon gorapples': {'2': 1059},\n 'kresh sash of stamina': {'300': 1060},\n 'elixir of speed': {'450': 1061},\n 'belt of the armor master': {'300': 1062},\n 'beech lightning staff of frost': {'250': 1063},\n 'linen sash of stamina': {'300': 1064},\n 'ice staff of endurance': {'250': 1065},\n 'cuirass of soulshine': {'300': 1066},\n 'electrum necklace of potion boost': [1067],\n 'soul gem': {'900': 1068},\n 'helmet of the arena': {'300': 1069},\n 'recipe: alabaster honey rum': {'171': 1070},\n \"hat of oblivion's foe\": {'300': 1071},\n 'sabatons of the black rose': {'300': 1072},\n 'band of bone cracking': [1073],\n 'epaulets of the lich': {'300': 1074},\n 'sweet scamp mazte': {'20': 1075},\n 'qhalua liqueur': {'26': 1076},\n 'recipe: grape-glazed bantam guar': {'170': 1078},\n 'rawhide guards of magicka': {'300': 1079},\n 'dwarven sabatons of magicka': {'300': 1080},\n 'moderate glyph of frost': {'950': 1081},\n 'ruby ash bow of flame': {'250': 1083},\n \"shoes of death's wind\": {'300': 1084},\n 'breeches of the magicka furnace': {'300': 1086},\n 'silverweave jerkin of stamina': {'300': 1087},\n 'ice staff of the seducer': {'250': 1088},\n 'stale salted cod': {'1': 1089},\n 'recipe: savory banana cornbread': {'170': 1090},\n 'moderate glyph of absorb health': {'950': 1091},\n 'silver necklace of potion boost': [1092],\n \"dagger of hunding's rage\": {'250': 1093},\n 'arm cops of the arena': {'300': 1094},\n \"mauloch's cleaver\": {'250': 1095},\n 'iron sword of flame': {'250': 1097},\n \"sash of the spectre's eye\": {'300': 1098},\n 'recipe: guarana tonic': {'171': 1099},\n 'moderate glyph of stamina recovery': {'1250': 1100},\n ...}"
     },
     "execution_count": 12,
     "metadata": {},
     "output_type": "execute_result"
    }
   ],
   "source": [
    "lookup = json.load(open(f\"ItemLookUpTable.json\", \"r\"))\n",
    "prices = json.load(open(f\"PriceTable.json\", \"r\"))\n",
    "lookup"
   ],
   "metadata": {
    "collapsed": false,
    "pycharm": {
     "name": "#%%\n"
    }
   }
  },
  {
   "cell_type": "code",
   "execution_count": 13,
   "outputs": [
    {
     "data": {
      "text/plain": "[{'name': 'Crafting Motif 113: Steadfast Society Maces',\n  'location': 'Summerset: Shimmerene',\n  'guild': 'Arkays Handelshof',\n  'price': 3000.0,\n  'quality': 3,\n  'cp': False,\n  'level': '1',\n  'last_seen': '2 Hour ago',\n  'ttc_item_id': 25192,\n  'ttc_price': [1378.86],\n  'ttc_suggested': 1378.86,\n  'price_ratio': 0.45962},\n {'name': 'Crafting Motif 113: Steadfast Society Bows',\n  'location': 'Summerset: Shimmerene',\n  'guild': 'Arkays Handelshof',\n  'price': 3000.0,\n  'quality': 3,\n  'cp': False,\n  'level': '1',\n  'last_seen': '2 Hour ago',\n  'ttc_item_id': 25229,\n  'ttc_price': [1634.57],\n  'ttc_suggested': 1634.57,\n  'price_ratio': 0.5448566666666667},\n {'name': 'Crafting Motif 81: New Moon Priest Maces',\n  'location': 'High Isle and Amenos: Gonfalon Bay',\n  'guild': 'Dragonborn Inc',\n  'price': 3000.0,\n  'quality': 3,\n  'cp': False,\n  'level': '1',\n  'last_seen': '3 Hour ago',\n  'ttc_item_id': 21493,\n  'ttc_price': [396.2],\n  'ttc_suggested': 396.2,\n  'price_ratio': 0.13206666666666667},\n {'name': 'Crafting Motif 113: Steadfast Society Legs',\n  'location': 'Summerset: Shimmerene',\n  'guild': 'Arkays Handelshof',\n  'price': 3000.0,\n  'quality': 3,\n  'cp': False,\n  'level': '1',\n  'last_seen': '4 Hour ago',\n  'ttc_item_id': 25336,\n  'ttc_price': [1807.04],\n  'ttc_suggested': 1807.04,\n  'price_ratio': 0.6023466666666667},\n {'name': 'Crafting Motif 81: New Moon Priest Helmets',\n  'location': 'The Reach: Markarth',\n  'guild': 'Der Greifenhain',\n  'price': 3000.0,\n  'quality': 3,\n  'cp': False,\n  'level': '1',\n  'last_seen': '3 Hour ago',\n  'ttc_item_id': 21479,\n  'ttc_price': [372.36],\n  'ttc_suggested': 372.36,\n  'price_ratio': 0.12412000000000001},\n {'name': 'Crafting Motif 63: Dremora Helmets',\n  'location': 'Summerset: Alinor',\n  'guild': 'Der Tante Emma Laden',\n  'price': 3000.0,\n  'quality': 3,\n  'cp': False,\n  'level': '1',\n  'last_seen': '3 Hour ago',\n  'ttc_item_id': 18725,\n  'ttc_price': [202.57],\n  'ttc_suggested': 202.57,\n  'price_ratio': 0.06752333333333334},\n {'name': 'Crafting Motif 34: Assassins League Axes',\n  'location': 'Summerset: Shimmerene',\n  'guild': 'Arkays Handelshof',\n  'price': 3000.0,\n  'quality': 3,\n  'cp': False,\n  'level': '1',\n  'last_seen': '26 Minute ago',\n  'ttc_item_id': 8092,\n  'ttc_price': [743.47],\n  'ttc_suggested': 743.47,\n  'price_ratio': 0.24782333333333334},\n {'name': 'Crafting Motif 113: Steadfast Society Axes',\n  'location': 'The Reach: Markarth',\n  'guild': 'Der Greifenhain',\n  'price': 3000.0,\n  'quality': 3,\n  'cp': False,\n  'level': '1',\n  'last_seen': '3 Hour ago',\n  'ttc_item_id': 25205,\n  'ttc_price': [1500.46],\n  'ttc_suggested': 1500.46,\n  'price_ratio': 0.5001533333333333},\n {'name': 'Crafting Motif 113: Steadfast Society Daggers',\n  'location': 'The Reach: Markarth',\n  'guild': 'Der Greifenhain',\n  'price': 3000.0,\n  'quality': 3,\n  'cp': False,\n  'level': '1',\n  'last_seen': '3 Hour ago',\n  'ttc_item_id': 25154,\n  'ttc_price': [1608.94],\n  'ttc_suggested': 1608.94,\n  'price_ratio': 0.5363133333333333},\n {'name': 'Crafting Motif 85: Greymoor Gloves',\n  'location': \"Glenumbra: Daggerfall's Outlaw Refuge\",\n  'guild': 'Sithis Wars',\n  'price': 3000.0,\n  'quality': 3,\n  'cp': False,\n  'level': '1',\n  'last_seen': '3 Hour ago',\n  'ttc_item_id': 22518,\n  'ttc_price': [1199.01],\n  'ttc_suggested': 1199.01,\n  'price_ratio': 0.39966999999999997},\n {'name': 'Crafting Motif 85: Greymoor Chests',\n  'location': 'Stormhaven: Wayrest',\n  'guild': 'Dagons Wrath',\n  'price': 3000.0,\n  'quality': 3,\n  'cp': False,\n  'level': '1',\n  'last_seen': '4 Hour ago',\n  'ttc_item_id': 22565,\n  'ttc_price': [2253.21],\n  'ttc_suggested': 2253.21,\n  'price_ratio': 0.75107},\n {'name': 'Crafting Motif 63: Dremora Boots',\n  'location': 'Summerset: Alinor',\n  'guild': 'Der Tante Emma Laden',\n  'price': 3000.0,\n  'quality': 3,\n  'cp': False,\n  'level': '1',\n  'last_seen': '22 Minute ago',\n  'ttc_item_id': 18752,\n  'ttc_price': [109.77],\n  'ttc_suggested': 109.77,\n  'price_ratio': 0.03659},\n {'name': 'Crafting Motif 63: Dremora Boots',\n  'location': 'Summerset: Alinor',\n  'guild': 'Der Tante Emma Laden',\n  'price': 3000.0,\n  'quality': 3,\n  'cp': False,\n  'level': '1',\n  'last_seen': '22 Minute ago',\n  'ttc_item_id': 18752,\n  'ttc_price': [109.77],\n  'ttc_suggested': 109.77,\n  'price_ratio': 0.03659},\n {'name': 'Crafting Motif 63: Dremora Boots',\n  'location': 'Summerset: Alinor',\n  'guild': 'Der Tante Emma Laden',\n  'price': 3000.0,\n  'quality': 3,\n  'cp': False,\n  'level': '1',\n  'last_seen': '22 Minute ago',\n  'ttc_item_id': 18752,\n  'ttc_price': [109.77],\n  'ttc_suggested': 109.77,\n  'price_ratio': 0.03659},\n {'name': 'Crafting Motif 63: Dremora Boots',\n  'location': 'Summerset: Alinor',\n  'guild': 'Der Tante Emma Laden',\n  'price': 3000.0,\n  'quality': 3,\n  'cp': False,\n  'level': '1',\n  'last_seen': '22 Minute ago',\n  'ttc_item_id': 18752,\n  'ttc_price': [109.77],\n  'ttc_suggested': 109.77,\n  'price_ratio': 0.03659},\n {'name': 'Crafting Motif 85: Greymoor Bows',\n  'location': 'Summerset: Alinor',\n  'guild': \"Stendarr's Merchantry\",\n  'price': 3000.0,\n  'quality': 3,\n  'cp': False,\n  'level': '1',\n  'last_seen': '3 Hour ago',\n  'ttc_item_id': 22571,\n  'ttc_price': [1188.13],\n  'ttc_suggested': 1188.13,\n  'price_ratio': 0.39604333333333336},\n {'name': 'Crafting Motif 84: Blackreach Vanguard Belts',\n  'location': \"Alik'r Desert: Sentinel\",\n  'guild': 'ClaudisClubhaus',\n  'price': 3000.0,\n  'quality': 3,\n  'cp': False,\n  'level': '1',\n  'last_seen': '60 Minute ago',\n  'ttc_item_id': 21526,\n  'ttc_price': [1048.66],\n  'ttc_suggested': 1048.66,\n  'price_ratio': 0.3495533333333334},\n {'name': 'Crafting Motif 63: Dremora Belts',\n  'location': 'Summerset: Shimmerene',\n  'guild': 'Arkays Handelshof',\n  'price': 3000.0,\n  'quality': 3,\n  'cp': False,\n  'level': '1',\n  'last_seen': '26 Minute ago',\n  'ttc_item_id': 18722,\n  'ttc_price': [89.4],\n  'ttc_suggested': 89.4,\n  'price_ratio': 0.029800000000000004},\n {'name': 'Crafting Motif 63: Dremora Staves',\n  'location': 'Stonefalls: Ebonheart',\n  'guild': 'Tamriels Vagabunden',\n  'price': 3000.0,\n  'quality': 3,\n  'cp': False,\n  'level': '1',\n  'last_seen': '4 Hour ago',\n  'ttc_item_id': 18747,\n  'ttc_price': [127.59],\n  'ttc_suggested': 127.59,\n  'price_ratio': 0.04253},\n {'name': 'Crafting Motif 63: Dremora Belts',\n  'location': 'Stonefalls: Ebonheart',\n  'guild': 'Tamriels Vagabunden',\n  'price': 3000.0,\n  'quality': 3,\n  'cp': False,\n  'level': '1',\n  'last_seen': '4 Hour ago',\n  'ttc_item_id': 18722,\n  'ttc_price': [89.4],\n  'ttc_suggested': 89.4,\n  'price_ratio': 0.029800000000000004},\n {'name': 'Crafting Motif 113: Steadfast Society Shields',\n  'location': 'Stonefalls: Ebonheart',\n  'guild': 'Twist It Sis',\n  'price': 3000.0,\n  'quality': 3,\n  'cp': False,\n  'level': '1',\n  'last_seen': '3 Hour ago',\n  'ttc_item_id': 25340,\n  'ttc_price': [1564.69],\n  'ttc_suggested': 1564.69,\n  'price_ratio': 0.5215633333333334},\n {'name': 'Crafting Motif 85: Greymoor Shoulders',\n  'location': \"Glenumbra: Daggerfall's Outlaw Refuge\",\n  'guild': 'Sithis Wars',\n  'price': 3000.0,\n  'quality': 3,\n  'cp': False,\n  'level': '1',\n  'last_seen': '3 Hour ago',\n  'ttc_item_id': 22573,\n  'ttc_price': [1401.17],\n  'ttc_suggested': 1401.17,\n  'price_ratio': 0.4670566666666667},\n {'name': 'Crafting Motif 63: Dremora Daggers',\n  'location': 'Craglorn: Belkarth',\n  'guild': '-cashflow',\n  'price': 3000.0,\n  'quality': 3,\n  'cp': False,\n  'level': '1',\n  'last_seen': '2 Hour ago',\n  'ttc_item_id': 18738,\n  'ttc_price': [111.93],\n  'ttc_suggested': 111.93,\n  'price_ratio': 0.03731},\n {'name': 'Crafting Motif 63: Dremora Helmets',\n  'location': 'Vvardenfell: Sadrith Mora',\n  'guild': 'SR Trading',\n  'price': 3000.0,\n  'quality': 3,\n  'cp': False,\n  'level': '1',\n  'last_seen': '1 Hour ago',\n  'ttc_item_id': 18725,\n  'ttc_price': [202.57],\n  'ttc_suggested': 202.57,\n  'price_ratio': 0.06752333333333334},\n {'name': 'Crafting Motif 63: Dremora Chests',\n  'location': 'The Reach: Markarth',\n  'guild': 'Der Greifenhain',\n  'price': 3000.0,\n  'quality': 3,\n  'cp': False,\n  'level': '1',\n  'last_seen': '3 Hour ago',\n  'ttc_item_id': 18759,\n  'ttc_price': [1816.11],\n  'ttc_suggested': 1816.11,\n  'price_ratio': 0.60537},\n {'name': 'Crafting Motif 85: Greymoor Helmets',\n  'location': 'Vvardenfell: Sadrith Mora',\n  'guild': 'DarkElements',\n  'price': 3000.0,\n  'quality': 3,\n  'cp': False,\n  'level': '1',\n  'last_seen': '1 Hour ago',\n  'ttc_item_id': 22543,\n  'ttc_price': [1474.53],\n  'ttc_suggested': 1474.53,\n  'price_ratio': 0.49151},\n {'name': 'Crafting Motif 11: Ancient Elf Style',\n  'location': 'Stormhaven: Wayrest',\n  'guild': 'Tamriel shopping center',\n  'price': 3000.0,\n  'quality': 3,\n  'cp': False,\n  'level': '1',\n  'last_seen': '26 Minute ago',\n  'ttc_item_id': 6503,\n  'ttc_price': [367.11],\n  'ttc_suggested': 367.11,\n  'price_ratio': 0.12237},\n {'name': 'Crafting Motif 42: Hollowjack Bows',\n  'location': 'Summerset: Alinor',\n  'guild': 'Der Tante Emma Laden',\n  'price': 3000.0,\n  'quality': 3,\n  'cp': False,\n  'level': '1',\n  'last_seen': '6 Hour ago',\n  'ttc_item_id': 11651,\n  'ttc_price': [674.59],\n  'ttc_suggested': 674.59,\n  'price_ratio': 0.22486333333333333},\n {'name': 'Crafting Motif 85: Greymoor Staves',\n  'location': 'Vvardenfell: Sadrith Mora',\n  'guild': 'DarkElements',\n  'price': 3000.0,\n  'quality': 3,\n  'cp': False,\n  'level': '1',\n  'last_seen': '1 Hour ago',\n  'ttc_item_id': 22558,\n  'ttc_price': [1283.91],\n  'ttc_suggested': 1283.91,\n  'price_ratio': 0.42797},\n {'name': 'Crafting Motif 85: Greymoor Axes',\n  'location': \"Stonefalls: Davon's Watch's Outlaw Refuge\",\n  'guild': 'Sithis Hatred',\n  'price': 3000.0,\n  'quality': 3,\n  'cp': False,\n  'level': '1',\n  'last_seen': '3 Hour ago',\n  'ttc_item_id': 22498,\n  'ttc_price': [1027.82],\n  'ttc_suggested': 1027.82,\n  'price_ratio': 0.34260666666666667}]"
     },
     "execution_count": 13,
     "metadata": {},
     "output_type": "execute_result"
    }
   ],
   "source": [
    "for row in rows:\n",
    "    l = lookup[row['name'].lower()]\n",
    "    row['ttc_item_id'] = list(l.values())[0]\n",
    "    row['ttc_price'] = prices[f\"{row['ttc_item_id']}\"][f\"{row['quality']}\"][f\"{row['level']}\"]\n",
    "    if isinstance(row['ttc_price'], dict):\n",
    "        row['ttc_price'] = list(row['ttc_price'].values())\n",
    "    row['ttc_price'] = [p.get('SuggestedPrice', None) for p in row['ttc_price']]\n",
    "    row['ttc_suggested'] = [p for p in row['ttc_price'] if p is not None]\n",
    "\n",
    "    if len(row['ttc_suggested']) == 0:\n",
    "        row['ttc_suggested'] = None\n",
    "    else:\n",
    "        row['ttc_suggested'] = min(row['ttc_suggested'])\n",
    "    row['price_ratio'] = row['ttc_suggested'] / row['price']\n",
    "rows"
   ],
   "metadata": {
    "collapsed": false,
    "pycharm": {
     "name": "#%%\n"
    }
   }
  },
  {
   "cell_type": "code",
   "execution_count": 14,
   "outputs": [
    {
     "data": {
      "text/plain": "0"
     },
     "execution_count": 14,
     "metadata": {},
     "output_type": "execute_result"
    }
   ],
   "source": [
    "len([r for r in rows if r['price_ratio'] > 1.05])"
   ],
   "metadata": {
    "collapsed": false,
    "pycharm": {
     "name": "#%%\n"
    }
   }
  },
  {
   "cell_type": "code",
   "execution_count": 15,
   "outputs": [],
   "source": [
    "json.dump(rows, open('dump.json', 'w'), indent=4)"
   ],
   "metadata": {
    "collapsed": false,
    "pycharm": {
     "name": "#%%\n"
    }
   }
  },
  {
   "cell_type": "code",
   "execution_count": null,
   "outputs": [],
   "source": [],
   "metadata": {
    "collapsed": false,
    "pycharm": {
     "name": "#%%\n"
    }
   }
  }
 ],
 "metadata": {
  "kernelspec": {
   "display_name": "Python 3",
   "language": "python",
   "name": "python3"
  },
  "language_info": {
   "codemirror_mode": {
    "name": "ipython",
    "version": 2
   },
   "file_extension": ".py",
   "mimetype": "text/x-python",
   "name": "python",
   "nbconvert_exporter": "python",
   "pygments_lexer": "ipython2",
   "version": "2.7.6"
  }
 },
 "nbformat": 4,
 "nbformat_minor": 0
}